{
  "nbformat": 4,
  "nbformat_minor": 0,
  "metadata": {
    "colab": {
      "provenance": []
    },
    "kernelspec": {
      "name": "python3",
      "display_name": "Python 3"
    },
    "language_info": {
      "name": "python"
    }
  },
  "cells": [
    {
      "cell_type": "markdown",
      "source": [
        "#DATA STRUCTURE\n"
      ],
      "metadata": {
        "id": "cS5U6DaZasDA"
      }
    },
    {
      "cell_type": "markdown",
      "source": [
        "#Therotical Questions\n"
      ],
      "metadata": {
        "id": "r_2LS36pgPGJ"
      }
    },
    {
      "cell_type": "markdown",
      "source": [
        "1. What are data structures, and why are they important?\n",
        "Data structures are ways of organizing and storing data efficiently for operations such as searching, sorting, and manipulation. They are crucial in programming as they optimize performance and manage complexity.\n",
        "\n",
        "2. Explain the difference between mutable and immutable data types with examples.\n",
        "Mutable data types can be modified after creation (e.g., lists, dictionaries), while immutable data types cannot be changed once assigned (e.g., strings, tuples).\n",
        "\n",
        "3. What are the main differences between lists and tuples in Python?\n",
        "Lists are mutable, dynamic, and consume more memory, while tuples are immutable, static, and memory-efficient.\n",
        "\n",
        "4. Describe how dictionaries store data.\n",
        "Dictionaries store data as key-value pairs using a hashing mechanism for fast lookups.\n",
        "\n",
        "5. Why might you use a set instead of a list in Python?\n",
        "Sets ensure uniqueness and provide faster membership checks compared to lists.\n",
        "\n",
        "6. What is a string in Python, and how is it different from a list?\n",
        "A string is an immutable sequence of characters, while a list is a mutable collection of elements.\n",
        "\n",
        "7. How do tuples ensure data integrity in Python?\n",
        "Tuples are immutable, preventing unintended modifications and ensuring data consistency.\n",
        "\n",
        "8. What is a hash table, and how does it relate to dictionaries in Python?\n",
        "A hash table is a data structure that maps keys to values using a hash function. Python’s dictionary is implemented using a hash table for efficient key-value storage.\n",
        "\n",
        "9. Can lists contain different data types in Python?\n",
        "Yes, lists in Python can store multiple data types, including integers, strings, and other objects.\n",
        "\n",
        "10. Explain why strings are immutable in Python.\n",
        "Strings are immutable for memory efficiency, security, and to prevent unintended changes.\n",
        "\n",
        "11. What advantages do dictionaries offer over lists for certain tasks?Dictionaries allow quick lookups using keys, whereas lists require searching through elements sequentially.\n",
        "\n",
        "12. Describe a scenario where using a tuple would be preferable over a list.\n",
        "A tuple is preferable for fixed data, such as coordinates or configuration settings, to ensure immutability.\n",
        "\n",
        "13. How do sets handle duplicate values in Python?\n",
        "Sets automatically remove duplicate values, ensuring uniqueness.\n",
        "\n",
        "14. How does the “in” keyword work differently for lists and dictionaries?\n",
        "For lists, \"in\" checks for element existence, while in dictionaries, it checks for key existence.\n",
        "\n",
        "15. Can you modify the elements of a tuple? Explain why or why not.\n",
        "No, tuples are immutable; once created, their elements cannot be changed.\n",
        "\n",
        "16. What is a nested dictionary, and give an example of its use case.\n",
        "A nested dictionary is a dictionary within another dictionary, useful for storing hierarchical data like user profiles.\n",
        "\n",
        "17. Describe the time complexity of accessing elements in a dictionary.Accessing elements in a dictionary has an average time complexity of O(1) due to hashing.\n",
        "\n",
        "18. In what situations are lists preferred over dictionaries?\n",
        "Lists are preferred when order matters or when working with sequential data.\n",
        "\n",
        "19. Why are dictionaries considered unordered, and how does that affect data retrieval?\n",
        "Dictionaries store elements based on hash functions, not insertion order (before Python 3.7), affecting retrieval order.\n",
        "\n",
        "20. Explain the difference between a list and a dictionary in terms of data retrieval.\n",
        "Lists retrieve data using indices (O(1) for direct access), while dictionaries retrieve data using keys (O(1) on average but O(n) in worst cases)."
      ],
      "metadata": {
        "id": "x_FFTideetIp"
      }
    },
    {
      "cell_type": "code",
      "source": [],
      "metadata": {
        "id": "ryM1JZv7arun"
      },
      "execution_count": null,
      "outputs": []
    },
    {
      "cell_type": "markdown",
      "source": [
        "#Practical Questions\n"
      ],
      "metadata": {
        "id": "9x38me3mgV52"
      }
    },
    {
      "cell_type": "code",
      "execution_count": 1,
      "metadata": {
        "id": "Sz6z7N9tamXW",
        "colab": {
          "base_uri": "https://localhost:8080/"
        },
        "outputId": "1eefd2ba-f263-43ec-d6a3-6fe2dd985ba6"
      },
      "outputs": [
        {
          "output_type": "stream",
          "name": "stdout",
          "text": [
            "Kartik\n"
          ]
        }
      ],
      "source": [
        "# 1. Create a string with your name and print it\n",
        "name = \"Kartik\"\n",
        "print(name)"
      ]
    },
    {
      "cell_type": "code",
      "source": [
        "# 2. Find the length of the string \"Hello World\"\n",
        "string = \"Hello World\"\n",
        "print(len(string))"
      ],
      "metadata": {
        "colab": {
          "base_uri": "https://localhost:8080/"
        },
        "id": "Lrvna1OHgsQI",
        "outputId": "88b10676-fdea-4098-e3ce-9476618b7b17"
      },
      "execution_count": 2,
      "outputs": [
        {
          "output_type": "stream",
          "name": "stdout",
          "text": [
            "11\n"
          ]
        }
      ]
    },
    {
      "cell_type": "code",
      "source": [
        "# 3. Slice the first 3 characters from the string \"Python Programming\"\n",
        "text = \"Python Programming\"\n",
        "print(text[:3])"
      ],
      "metadata": {
        "colab": {
          "base_uri": "https://localhost:8080/"
        },
        "id": "2jmbpy4MguPX",
        "outputId": "3d7f70a5-78aa-4c6c-daec-3e53e616affc"
      },
      "execution_count": 3,
      "outputs": [
        {
          "output_type": "stream",
          "name": "stdout",
          "text": [
            "Pyt\n"
          ]
        }
      ]
    },
    {
      "cell_type": "code",
      "source": [
        "# 4. Convert the string \"hello\" to uppercase\n",
        "print(\"hello\".upper())"
      ],
      "metadata": {
        "colab": {
          "base_uri": "https://localhost:8080/"
        },
        "id": "zvjCQjU5gx0U",
        "outputId": "90a56b1c-424e-4625-935d-3b1308978dbd"
      },
      "execution_count": 4,
      "outputs": [
        {
          "output_type": "stream",
          "name": "stdout",
          "text": [
            "HELLO\n"
          ]
        }
      ]
    },
    {
      "cell_type": "code",
      "source": [
        "# 5. Replace \"apple\" with \"orange\" in \"I like apple\"\n",
        "print(\"I like apple\".replace(\"apple\", \"orange\"))"
      ],
      "metadata": {
        "colab": {
          "base_uri": "https://localhost:8080/"
        },
        "id": "EqIlExPSg0W-",
        "outputId": "b02f9d86-1005-4b42-96e0-0a4e156d6d23"
      },
      "execution_count": 5,
      "outputs": [
        {
          "output_type": "stream",
          "name": "stdout",
          "text": [
            "I like orange\n"
          ]
        }
      ]
    },
    {
      "cell_type": "code",
      "source": [
        "# 6. Create a list with numbers 1 to 5 and print it\n",
        "numbers = [1, 2, 3, 4, 5]\n",
        "print(numbers)"
      ],
      "metadata": {
        "colab": {
          "base_uri": "https://localhost:8080/"
        },
        "id": "HMcn2B3Gg2gL",
        "outputId": "709120c7-fe1d-4778-c3d1-16899acf539e"
      },
      "execution_count": 6,
      "outputs": [
        {
          "output_type": "stream",
          "name": "stdout",
          "text": [
            "[1, 2, 3, 4, 5]\n"
          ]
        }
      ]
    },
    {
      "cell_type": "code",
      "source": [
        "# 7. Append 10 to the list\n",
        "numbers.append(10)\n",
        "print(numbers)"
      ],
      "metadata": {
        "colab": {
          "base_uri": "https://localhost:8080/"
        },
        "id": "oLUND8vzg5bv",
        "outputId": "d3aabf35-5423-47e6-e3a2-0da3eeef2ffb"
      },
      "execution_count": 7,
      "outputs": [
        {
          "output_type": "stream",
          "name": "stdout",
          "text": [
            "[1, 2, 3, 4, 5, 10]\n"
          ]
        }
      ]
    },
    {
      "cell_type": "code",
      "source": [
        "# 8. Remove number 3 from the list\n",
        "numbers.remove(3)\n",
        "print(numbers)"
      ],
      "metadata": {
        "colab": {
          "base_uri": "https://localhost:8080/"
        },
        "id": "JOsxOJy5g74s",
        "outputId": "0421eff3-8db6-475a-e7f9-0c039fe4e030"
      },
      "execution_count": 8,
      "outputs": [
        {
          "output_type": "stream",
          "name": "stdout",
          "text": [
            "[1, 2, 4, 5, 10]\n"
          ]
        }
      ]
    },
    {
      "cell_type": "code",
      "source": [
        "# 9. Access the second element in ['a', 'b', 'c', 'd']\n",
        "letters = ['a', 'b', 'c', 'd']\n",
        "print(letters[1])"
      ],
      "metadata": {
        "colab": {
          "base_uri": "https://localhost:8080/"
        },
        "id": "ExjlCSrhg90M",
        "outputId": "21279e21-296b-4bb4-bb87-c0e419cd0977"
      },
      "execution_count": 9,
      "outputs": [
        {
          "output_type": "stream",
          "name": "stdout",
          "text": [
            "b\n"
          ]
        }
      ]
    },
    {
      "cell_type": "code",
      "source": [
        "# 10. Reverse the list [10, 20, 30, 40, 50]\n",
        "numbers = [10, 20, 30, 40, 50]\n",
        "numbers.reverse()\n",
        "print(numbers)"
      ],
      "metadata": {
        "colab": {
          "base_uri": "https://localhost:8080/"
        },
        "id": "H4NlX8oIhAn9",
        "outputId": "264d0ff7-bef3-4f96-a734-83436d0dd799"
      },
      "execution_count": 10,
      "outputs": [
        {
          "output_type": "stream",
          "name": "stdout",
          "text": [
            "[50, 40, 30, 20, 10]\n"
          ]
        }
      ]
    },
    {
      "cell_type": "code",
      "source": [
        "# 11. Create a tuple and print it\n",
        "tuple1 = (100, 200, 300)\n",
        "print(tuple1)"
      ],
      "metadata": {
        "colab": {
          "base_uri": "https://localhost:8080/"
        },
        "id": "TQNAuFiGique",
        "outputId": "71a7949b-d0b9-4d9a-c087-c88cdff466ff"
      },
      "execution_count": 11,
      "outputs": [
        {
          "output_type": "stream",
          "name": "stdout",
          "text": [
            "(100, 200, 300)\n"
          ]
        }
      ]
    },
    {
      "cell_type": "code",
      "source": [
        "# 12. Describe a scenario where using a tuple would be preferable over a list\n",
        "# Example: A tuple is preferable for fixed data, such as coordinates or configuration settings, to ensure immutability.\n",
        "coordinates = (34.0522, -118.2437)  # Tuple for geographical coordinates\n",
        "print(coordinates)"
      ],
      "metadata": {
        "colab": {
          "base_uri": "https://localhost:8080/"
        },
        "id": "DHWMAMOUit6t",
        "outputId": "8b92cc89-d7e8-4425-88aa-f285d733b6ef"
      },
      "execution_count": 25,
      "outputs": [
        {
          "output_type": "stream",
          "name": "stdout",
          "text": [
            "(34.0522, -118.2437)\n"
          ]
        }
      ]
    },
    {
      "cell_type": "code",
      "source": [
        "# 13. Find the minimum number in (10, 20, 5, 15)\n",
        "tuple3 = (10, 20, 5, 15)\n",
        "print(min(tuple3))"
      ],
      "metadata": {
        "colab": {
          "base_uri": "https://localhost:8080/"
        },
        "id": "rqbKjxlejJOg",
        "outputId": "f6d286e9-3509-4c4f-9d91-7a2f16a39394"
      },
      "execution_count": 12,
      "outputs": [
        {
          "output_type": "stream",
          "name": "stdout",
          "text": [
            "5\n"
          ]
        }
      ]
    },
    {
      "cell_type": "code",
      "source": [
        "# 14. Find the index of \"cat\" in ('dog', 'cat', 'rabbit')\n",
        "tuple4 = ('dog', 'cat', 'rabbit')\n",
        "print(tuple4.index(\"cat\"))"
      ],
      "metadata": {
        "colab": {
          "base_uri": "https://localhost:8080/"
        },
        "id": "3pnqHBPJjJ5u",
        "outputId": "b42729dd-ad28-4217-b950-de2bd92e940c"
      },
      "execution_count": 13,
      "outputs": [
        {
          "output_type": "stream",
          "name": "stdout",
          "text": [
            "1\n"
          ]
        }
      ]
    },
    {
      "cell_type": "code",
      "source": [
        "# 15. Check if \"kiwi\" is in tuple\n",
        "fruits = (\"apple\", \"banana\", \"orange\")\n",
        "print(\"kiwi\" in fruits)"
      ],
      "metadata": {
        "colab": {
          "base_uri": "https://localhost:8080/"
        },
        "id": "7yrJjvokjMzn",
        "outputId": "f3e1707b-c955-443c-e8e3-f4e522421528"
      },
      "execution_count": 14,
      "outputs": [
        {
          "output_type": "stream",
          "name": "stdout",
          "text": [
            "False\n"
          ]
        }
      ]
    },
    {
      "cell_type": "code",
      "source": [
        "# 16. Create and print a set\n",
        "set1 = {'a', 'b', 'c'}\n",
        "print(set1)"
      ],
      "metadata": {
        "colab": {
          "base_uri": "https://localhost:8080/"
        },
        "id": "93LWbuoAjQbl",
        "outputId": "81fdbc0a-693e-4973-ad49-073dcbb2df41"
      },
      "execution_count": 15,
      "outputs": [
        {
          "output_type": "stream",
          "name": "stdout",
          "text": [
            "{'a', 'c', 'b'}\n"
          ]
        }
      ]
    },
    {
      "cell_type": "code",
      "source": [
        "# 17. Clear all elements from a set\n",
        "set2 = {1, 2, 3, 4, 5}\n",
        "set2.clear()\n",
        "print(set2)"
      ],
      "metadata": {
        "colab": {
          "base_uri": "https://localhost:8080/"
        },
        "id": "2DYDHvIkjSv7",
        "outputId": "0976b8e1-2969-42e6-cb1b-d852e553dfa0"
      },
      "execution_count": 16,
      "outputs": [
        {
          "output_type": "stream",
          "name": "stdout",
          "text": [
            "set()\n"
          ]
        }
      ]
    },
    {
      "cell_type": "code",
      "source": [
        "# 18. Remove element 4 from a set\n",
        "set3 = {1, 2, 3, 4}\n",
        "set3.remove(4)\n",
        "print(set3)"
      ],
      "metadata": {
        "colab": {
          "base_uri": "https://localhost:8080/"
        },
        "id": "elxrJ2o_jWeG",
        "outputId": "e230bff0-6abe-4f26-f6e5-76a466572840"
      },
      "execution_count": 17,
      "outputs": [
        {
          "output_type": "stream",
          "name": "stdout",
          "text": [
            "{1, 2, 3}\n"
          ]
        }
      ]
    },
    {
      "cell_type": "code",
      "source": [
        "# 19. Find the union of two sets\n",
        "setA = {1, 2, 3}\n",
        "setB = {3, 4, 5}\n",
        "print(setA.union(setB))"
      ],
      "metadata": {
        "colab": {
          "base_uri": "https://localhost:8080/"
        },
        "id": "zMj876wsjbiN",
        "outputId": "30bc07b6-77f6-4c07-9864-b93eb1dadfcd"
      },
      "execution_count": 18,
      "outputs": [
        {
          "output_type": "stream",
          "name": "stdout",
          "text": [
            "{1, 2, 3, 4, 5}\n"
          ]
        }
      ]
    },
    {
      "cell_type": "code",
      "source": [
        "# 20. Find the intersection of two sets\n",
        "print(setA.intersection(setB))"
      ],
      "metadata": {
        "colab": {
          "base_uri": "https://localhost:8080/"
        },
        "id": "oWpCjT6TjeGF",
        "outputId": "107213ac-690a-4a7d-8701-943816278a9f"
      },
      "execution_count": 19,
      "outputs": [
        {
          "output_type": "stream",
          "name": "stdout",
          "text": [
            "{3}\n"
          ]
        }
      ]
    },
    {
      "cell_type": "code",
      "source": [
        "# 21. Create a dictionary and print it\n",
        "dict1 = {\"name\": \"John\", \"age\": 25, \"city\": \"New York\"}\n",
        "print(dict1)"
      ],
      "metadata": {
        "colab": {
          "base_uri": "https://localhost:8080/"
        },
        "id": "T--YvJxdjhG4",
        "outputId": "88221052-637e-4014-d325-855223feef21"
      },
      "execution_count": 20,
      "outputs": [
        {
          "output_type": "stream",
          "name": "stdout",
          "text": [
            "{'name': 'John', 'age': 25, 'city': 'New York'}\n"
          ]
        }
      ]
    },
    {
      "cell_type": "code",
      "source": [
        "# 22. Add a new key-value pair\n",
        "dict1[\"country\"] = \"USA\"\n",
        "print(dict1)"
      ],
      "metadata": {
        "colab": {
          "base_uri": "https://localhost:8080/"
        },
        "id": "mxLLTbcNjjjt",
        "outputId": "cdcc0499-bc69-46e9-8db0-b240c4ff094a"
      },
      "execution_count": 21,
      "outputs": [
        {
          "output_type": "stream",
          "name": "stdout",
          "text": [
            "{'name': 'John', 'age': 25, 'city': 'New York', 'country': 'USA'}\n"
          ]
        }
      ]
    },
    {
      "cell_type": "code",
      "source": [
        "# 23. Access value of \"name\" in dictionary\n",
        "print(dict1[\"name\"])"
      ],
      "metadata": {
        "colab": {
          "base_uri": "https://localhost:8080/"
        },
        "id": "RAidBKOAjllU",
        "outputId": "16c85eba-dd9e-4e39-f593-d6419cf401c4"
      },
      "execution_count": 22,
      "outputs": [
        {
          "output_type": "stream",
          "name": "stdout",
          "text": [
            "John\n"
          ]
        }
      ]
    },
    {
      "cell_type": "code",
      "source": [
        "# 24. Remove the \"age\" key\n",
        "del dict1[\"age\"]\n",
        "print(dict1)"
      ],
      "metadata": {
        "colab": {
          "base_uri": "https://localhost:8080/"
        },
        "id": "3adYsDFLjnkK",
        "outputId": "3c1dac99-5ee5-4b69-8cff-f37d7a51329e"
      },
      "execution_count": 23,
      "outputs": [
        {
          "output_type": "stream",
          "name": "stdout",
          "text": [
            "{'name': 'John', 'city': 'New York', 'country': 'USA'}\n"
          ]
        }
      ]
    },
    {
      "cell_type": "code",
      "source": [
        "# 25. Check if \"city\" exists in dictionary\n",
        "print(\"city\" in dict1)"
      ],
      "metadata": {
        "colab": {
          "base_uri": "https://localhost:8080/"
        },
        "id": "gYPY7bhTjp0L",
        "outputId": "6b2fd4ad-38c3-4ec5-8ab8-71044a9928e3"
      },
      "execution_count": 24,
      "outputs": [
        {
          "output_type": "stream",
          "name": "stdout",
          "text": [
            "True\n"
          ]
        }
      ]
    },
    {
      "cell_type": "code",
      "source": [],
      "metadata": {
        "id": "HDs6PsYBjrx7"
      },
      "execution_count": null,
      "outputs": []
    }
  ]
}